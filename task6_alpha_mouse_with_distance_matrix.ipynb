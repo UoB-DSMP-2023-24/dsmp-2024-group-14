{
 "cells": [
  {
   "cell_type": "code",
   "execution_count": 1,
   "id": "25f6a915",
   "metadata": {},
   "outputs": [],
   "source": [
    "from sklearn.model_selection import train_test_split\n",
    "\n",
    "import numpy as np\n",
    "import pandas as pd\n",
    "import matplotlib.pyplot as plt\n",
    "from sklearn.manifold import TSNE\n",
    "from sklearn.preprocessing import LabelEncoder\n",
    "\n",
    "# Load the dataset containing sequence features\n",
    "data = pd.read_csv(\"mouse_data_alpha.csv\") \n",
    "\n",
    "# 假设 `data` 是已加载的pandas DataFrame，并且包含了上述的列\n",
    "\n",
    "class_counts = data['antigen.epitope'].value_counts()\n",
    "\n",
    "# Find classes that have only one instance\n",
    "single_classes = class_counts[class_counts == 1].index\n",
    "\n",
    "\n",
    "# Remove rows where 'antigen.epitope' belongs to classes with only one instance\n",
    "data_filtered = data[~data['antigen.epitope'].isin(single_classes)]\n",
    "data_filtered.to_csv(\"mouse_data_alpha_filtered.csv\") \n",
    "\n",
    "# 首先，根据`cdr3_a_aa`、`v_a_gene`和`j_a_gene`来计算距离矩阵\n",
    "# 计算距离矩阵的具体代码将根据所选算法和数据类型有所不同\n",
    "\n",
    "# 定义特征列和目标列\n",
    "feature_columns = ['cdr3_a_aa', 'v_a_gene', 'j_a_gene']\n",
    "target_column = 'antigen.epitope'\n",
    "\n",
    "# 提取特征和目标\n",
    "X = data_filtered[feature_columns]  # 或是距离矩阵，取决于您的模型需求\n",
    "y = data_filtered[target_column]"
   ]
  },
  {
   "cell_type": "code",
   "execution_count": 2,
   "id": "78d5923f",
   "metadata": {},
   "outputs": [
    {
     "data": {
      "text/plain": [
       "Index(['KAPYNFATM', 'INFDFNTI', 'KAPFNFATM', 'KAPANFATM', 'KAVYNFATM',\n",
       "       'VSYYGPKTSPVQ', 'ADSLSFFSSSIKRGGGSLVP', 'LVERLYLVCGGEG', 'KAPYDYAPI',\n",
       "       'RGPGRAFVTI', 'VVVGAVGVGK', 'VVGAVGVGK', 'KAVANFATM', 'SPAPRPLDL',\n",
       "       'VPYMAEFGM', 'ANGVAFFLTPFKA', 'KVITFIDL', 'RGYVYQGL', 'SRGGASQYRPSQ',\n",
       "       'SQYYYNSL', 'GAMKRHGLDNYRGYSLG', 'WIYVYRPMGCGGS',\n",
       "       'PADPLAFFSSAIKGGGGSLV', 'ADGLAYFRSSFKGG', 'FEAQKAKANKAVDG', 'MPAGRPWDL',\n",
       "       'FEAQKAKANKAV', 'ADLIAYLEQATKG', 'QLSDVPMDL', 'SPLDSLWWI', 'FLSPFWFDI',\n",
       "       'SPAEAGFFL', 'QPAEGGFQL', 'SIYRYYGL', 'VVVGADGVGK'],\n",
       "      dtype='object', name='antigen.epitope')"
      ]
     },
     "execution_count": 2,
     "metadata": {},
     "output_type": "execute_result"
    }
   ],
   "source": [
    "single_classes"
   ]
  },
  {
   "cell_type": "code",
   "execution_count": null,
   "id": "bece22f0",
   "metadata": {},
   "outputs": [],
   "source": []
  },
  {
   "cell_type": "code",
   "execution_count": 3,
   "id": "59885bb1",
   "metadata": {},
   "outputs": [
    {
     "name": "stderr",
     "output_type": "stream",
     "text": [
      "D:\\conda\\Lib\\site-packages\\tcrdist\\repertoire.py:159: UserWarning: cell_df needs a counts column to track clonal number of frequency\n",
      "\n",
      "  self._validate_cell_df()\n",
      "D:\\conda\\Lib\\site-packages\\tcrdist\\repertoire.py:791: UserWarning: No 'count' column provided; count column set to 1\n",
      "  warnings.warn(\"No 'count' column provided; count column set to 1\")\n"
     ]
    },
    {
     "data": {
      "text/plain": [
       "array([[0.        , 0.        , 0.67272727, ..., 0.59545455, 0.57272727,\n",
       "        0.58181818],\n",
       "       [0.        , 0.        , 0.67272727, ..., 0.59545455, 0.57272727,\n",
       "        0.58181818],\n",
       "       [0.67272727, 0.67272727, 0.        , ..., 0.61363636, 0.61363636,\n",
       "        0.6       ],\n",
       "       ...,\n",
       "       [0.59545455, 0.59545455, 0.61363636, ..., 0.        , 0.53181818,\n",
       "        0.27272727],\n",
       "       [0.57272727, 0.57272727, 0.61363636, ..., 0.53181818, 0.        ,\n",
       "        0.57272727],\n",
       "       [0.58181818, 0.58181818, 0.6       , ..., 0.27272727, 0.57272727,\n",
       "        0.        ]])"
      ]
     },
     "execution_count": 3,
     "metadata": {},
     "output_type": "execute_result"
    }
   ],
   "source": [
    "import numpy as np\n",
    "from tcrdist.repertoire import TCRrep\n",
    "#创造‘TCRrep’类\n",
    "#alpha chain\n",
    "data_alpha = pd.read_csv(\"mouse_data_alpha_filtered.csv\")\n",
    "tr_alpha = TCRrep(cell_df=data_alpha, \n",
    "                  organism='mouse', \n",
    "                  chains=['alpha'], \n",
    "                  db_file='alphabeta_gammadelta_db.tsv')\n",
    "tr_alpha.compute_distances()\n",
    "\n",
    "alpha_distance_matrix = tr_alpha.pw_alpha\n",
    "\n",
    "max_value = np.max(alpha_distance_matrix)\n",
    "min_value = np.min(alpha_distance_matrix)\n",
    "\n",
    "# 标准化距离矩阵\n",
    "normalized_alpha_distance_matrix = (alpha_distance_matrix - min_value) / (max_value - min_value)\n",
    "np.save('alpha_distance_mouse_matrix.npy', normalized_alpha_distance_matrix)\n",
    "normalized_alpha_distance_matrix"
   ]
  },
  {
   "cell_type": "code",
   "execution_count": 4,
   "id": "58bc4038",
   "metadata": {},
   "outputs": [
    {
     "data": {
      "text/html": [
       "<style>#sk-container-id-1 {color: black;background-color: white;}#sk-container-id-1 pre{padding: 0;}#sk-container-id-1 div.sk-toggleable {background-color: white;}#sk-container-id-1 label.sk-toggleable__label {cursor: pointer;display: block;width: 100%;margin-bottom: 0;padding: 0.3em;box-sizing: border-box;text-align: center;}#sk-container-id-1 label.sk-toggleable__label-arrow:before {content: \"▸\";float: left;margin-right: 0.25em;color: #696969;}#sk-container-id-1 label.sk-toggleable__label-arrow:hover:before {color: black;}#sk-container-id-1 div.sk-estimator:hover label.sk-toggleable__label-arrow:before {color: black;}#sk-container-id-1 div.sk-toggleable__content {max-height: 0;max-width: 0;overflow: hidden;text-align: left;background-color: #f0f8ff;}#sk-container-id-1 div.sk-toggleable__content pre {margin: 0.2em;color: black;border-radius: 0.25em;background-color: #f0f8ff;}#sk-container-id-1 input.sk-toggleable__control:checked~div.sk-toggleable__content {max-height: 200px;max-width: 100%;overflow: auto;}#sk-container-id-1 input.sk-toggleable__control:checked~label.sk-toggleable__label-arrow:before {content: \"▾\";}#sk-container-id-1 div.sk-estimator input.sk-toggleable__control:checked~label.sk-toggleable__label {background-color: #d4ebff;}#sk-container-id-1 div.sk-label input.sk-toggleable__control:checked~label.sk-toggleable__label {background-color: #d4ebff;}#sk-container-id-1 input.sk-hidden--visually {border: 0;clip: rect(1px 1px 1px 1px);clip: rect(1px, 1px, 1px, 1px);height: 1px;margin: -1px;overflow: hidden;padding: 0;position: absolute;width: 1px;}#sk-container-id-1 div.sk-estimator {font-family: monospace;background-color: #f0f8ff;border: 1px dotted black;border-radius: 0.25em;box-sizing: border-box;margin-bottom: 0.5em;}#sk-container-id-1 div.sk-estimator:hover {background-color: #d4ebff;}#sk-container-id-1 div.sk-parallel-item::after {content: \"\";width: 100%;border-bottom: 1px solid gray;flex-grow: 1;}#sk-container-id-1 div.sk-label:hover label.sk-toggleable__label {background-color: #d4ebff;}#sk-container-id-1 div.sk-serial::before {content: \"\";position: absolute;border-left: 1px solid gray;box-sizing: border-box;top: 0;bottom: 0;left: 50%;z-index: 0;}#sk-container-id-1 div.sk-serial {display: flex;flex-direction: column;align-items: center;background-color: white;padding-right: 0.2em;padding-left: 0.2em;position: relative;}#sk-container-id-1 div.sk-item {position: relative;z-index: 1;}#sk-container-id-1 div.sk-parallel {display: flex;align-items: stretch;justify-content: center;background-color: white;position: relative;}#sk-container-id-1 div.sk-item::before, #sk-container-id-1 div.sk-parallel-item::before {content: \"\";position: absolute;border-left: 1px solid gray;box-sizing: border-box;top: 0;bottom: 0;left: 50%;z-index: -1;}#sk-container-id-1 div.sk-parallel-item {display: flex;flex-direction: column;z-index: 1;position: relative;background-color: white;}#sk-container-id-1 div.sk-parallel-item:first-child::after {align-self: flex-end;width: 50%;}#sk-container-id-1 div.sk-parallel-item:last-child::after {align-self: flex-start;width: 50%;}#sk-container-id-1 div.sk-parallel-item:only-child::after {width: 0;}#sk-container-id-1 div.sk-dashed-wrapped {border: 1px dashed gray;margin: 0 0.4em 0.5em 0.4em;box-sizing: border-box;padding-bottom: 0.4em;background-color: white;}#sk-container-id-1 div.sk-label label {font-family: monospace;font-weight: bold;display: inline-block;line-height: 1.2em;}#sk-container-id-1 div.sk-label-container {text-align: center;}#sk-container-id-1 div.sk-container {/* jupyter's `normalize.less` sets `[hidden] { display: none; }` but bootstrap.min.css set `[hidden] { display: none !important; }` so we also need the `!important` here to be able to override the default hidden behavior on the sphinx rendered scikit-learn.org. See: https://github.com/scikit-learn/scikit-learn/issues/21755 */display: inline-block !important;position: relative;}#sk-container-id-1 div.sk-text-repr-fallback {display: none;}</style><div id=\"sk-container-id-1\" class=\"sk-top-container\"><div class=\"sk-text-repr-fallback\"><pre>KNeighborsClassifier(metric=&#x27;precomputed&#x27;, n_neighbors=1)</pre><b>In a Jupyter environment, please rerun this cell to show the HTML representation or trust the notebook. <br />On GitHub, the HTML representation is unable to render, please try loading this page with nbviewer.org.</b></div><div class=\"sk-container\" hidden><div class=\"sk-item\"><div class=\"sk-estimator sk-toggleable\"><input class=\"sk-toggleable__control sk-hidden--visually\" id=\"sk-estimator-id-1\" type=\"checkbox\" checked><label for=\"sk-estimator-id-1\" class=\"sk-toggleable__label sk-toggleable__label-arrow\">KNeighborsClassifier</label><div class=\"sk-toggleable__content\"><pre>KNeighborsClassifier(metric=&#x27;precomputed&#x27;, n_neighbors=1)</pre></div></div></div></div></div>"
      ],
      "text/plain": [
       "KNeighborsClassifier(metric='precomputed', n_neighbors=1)"
      ]
     },
     "execution_count": 4,
     "metadata": {},
     "output_type": "execute_result"
    }
   ],
   "source": [
    "from sklearn.neighbors import KNeighborsClassifier\n",
    "from sklearn.metrics import accuracy_score, classification_report\n",
    "from sklearn.model_selection import train_test_split\n",
    "from sklearn.preprocessing import StandardScaler\n",
    "from sklearn.preprocessing import StandardScaler\n",
    "# 首先，获取训练集和测试集的索引\n",
    "distance_matrix=normalized_alpha_distance_matrix\n",
    "labels = data_filtered['antigen.epitope'].values\n",
    "# Manually split the indices to create a training and testing set\n",
    "indices = np.arange(distance_matrix.shape[0])\n",
    "train_indices, test_indices = train_test_split(indices, test_size=0.2, random_state=42)\n",
    "\n",
    "# Extract the corresponding rows for training and testing\n",
    "# The entire training matrix is used, and distances from each test sample to all training samples are computed\n",
    "X_train = distance_matrix[train_indices][:, train_indices]\n",
    "X_test = distance_matrix[test_indices][:, train_indices]\n",
    "y_train = labels[train_indices]\n",
    "y_test = labels[test_indices]\n",
    "#train\n",
    "knn = KNeighborsClassifier(n_neighbors=1, metric='precomputed')\n",
    "knn.fit(X_train, y_train)"
   ]
  },
  {
   "cell_type": "code",
   "execution_count": 5,
   "id": "b477cbc4",
   "metadata": {},
   "outputs": [
    {
     "name": "stdout",
     "output_type": "stream",
     "text": [
      "Accuracy: 68.54%\n",
      "               precision    recall  f1-score   support\n",
      "\n",
      "ADLIAYLKQATKG       0.00      0.00      0.00         1\n",
      "    ASNENMETM       0.70      0.81      0.75        26\n",
      "    HGIRNASFI       0.68      0.60      0.64        25\n",
      "    LSLRNPILV       0.50      0.36      0.42        11\n",
      "    QLSPFPFDL       1.00      1.00      1.00         1\n",
      "RVSYYGPKTSPVQ       0.00      0.00      0.00         0\n",
      "    SQLLNAKYL       0.17      0.20      0.18         5\n",
      "   SSLENFRAYV       0.75      0.75      0.75        24\n",
      "     SSPPMFRV       0.67      0.77      0.71        26\n",
      "    SSYRRPVGI       0.80      0.73      0.76        51\n",
      "     TVYGFCLL       0.56      0.62      0.59         8\n",
      "\n",
      "     accuracy                           0.69       178\n",
      "    macro avg       0.53      0.53      0.53       178\n",
      " weighted avg       0.69      0.69      0.69       178\n",
      "\n"
     ]
    },
    {
     "name": "stderr",
     "output_type": "stream",
     "text": [
      "D:\\conda\\Lib\\site-packages\\sklearn\\metrics\\_classification.py:1344: UndefinedMetricWarning: Precision and F-score are ill-defined and being set to 0.0 in labels with no predicted samples. Use `zero_division` parameter to control this behavior.\n",
      "  _warn_prf(average, modifier, msg_start, len(result))\n",
      "D:\\conda\\Lib\\site-packages\\sklearn\\metrics\\_classification.py:1344: UndefinedMetricWarning: Recall and F-score are ill-defined and being set to 0.0 in labels with no true samples. Use `zero_division` parameter to control this behavior.\n",
      "  _warn_prf(average, modifier, msg_start, len(result))\n",
      "D:\\conda\\Lib\\site-packages\\sklearn\\metrics\\_classification.py:1344: UndefinedMetricWarning: Precision and F-score are ill-defined and being set to 0.0 in labels with no predicted samples. Use `zero_division` parameter to control this behavior.\n",
      "  _warn_prf(average, modifier, msg_start, len(result))\n",
      "D:\\conda\\Lib\\site-packages\\sklearn\\metrics\\_classification.py:1344: UndefinedMetricWarning: Recall and F-score are ill-defined and being set to 0.0 in labels with no true samples. Use `zero_division` parameter to control this behavior.\n",
      "  _warn_prf(average, modifier, msg_start, len(result))\n",
      "D:\\conda\\Lib\\site-packages\\sklearn\\metrics\\_classification.py:1344: UndefinedMetricWarning: Precision and F-score are ill-defined and being set to 0.0 in labels with no predicted samples. Use `zero_division` parameter to control this behavior.\n",
      "  _warn_prf(average, modifier, msg_start, len(result))\n",
      "D:\\conda\\Lib\\site-packages\\sklearn\\metrics\\_classification.py:1344: UndefinedMetricWarning: Recall and F-score are ill-defined and being set to 0.0 in labels with no true samples. Use `zero_division` parameter to control this behavior.\n",
      "  _warn_prf(average, modifier, msg_start, len(result))\n"
     ]
    },
    {
     "data": {
      "text/plain": [
       "(178, 711)"
      ]
     },
     "execution_count": 5,
     "metadata": {},
     "output_type": "execute_result"
    }
   ],
   "source": [
    "y_pred = knn.predict(X_test )\n",
    "accuracy = accuracy_score(y_test, y_pred)\n",
    "print(f\"Accuracy: {accuracy * 100:.2f}%\")\n",
    "report = classification_report(y_test, y_pred)\n",
    "print(report)\n",
    "X_test.shape"
   ]
  },
  {
   "cell_type": "code",
   "execution_count": 6,
   "id": "74721400",
   "metadata": {},
   "outputs": [
    {
     "name": "stderr",
     "output_type": "stream",
     "text": [
      "D:\\conda\\Lib\\site-packages\\sklearn\\model_selection\\_split.py:700: UserWarning: The least populated class in y has only 1 members, which is less than n_splits=5.\n",
      "  warnings.warn(\n"
     ]
    },
    {
     "name": "stdout",
     "output_type": "stream",
     "text": [
      "Best k value: 1\n"
     ]
    }
   ],
   "source": [
    "from sklearn.model_selection import GridSearchCV\n",
    "knn = KNeighborsClassifier()\n",
    "\n",
    "# 设置要尝试的k值范围\n",
    "param_grid = {'n_neighbors': np.arange(1, 25)}\n",
    "\n",
    "# 进行网格搜索\n",
    "knn_gscv = GridSearchCV(knn, param_grid, cv=5)  # 5折交叉验证\n",
    "knn_gscv.fit(X_train, y_train)\n",
    "\n",
    "# 最佳k值\n",
    "best_k = knn_gscv.best_params_['n_neighbors']\n",
    "print(f\"Best k value: {best_k}\")"
   ]
  },
  {
   "cell_type": "code",
   "execution_count": 7,
   "id": "c325a538",
   "metadata": {},
   "outputs": [
    {
     "name": "stdout",
     "output_type": "stream",
     "text": [
      "Accuracy: 0.6685393258426966\n",
      "               precision    recall  f1-score   support\n",
      "\n",
      "ADLIAYLKQATKG       0.00      0.00      0.00         1\n",
      "    ASNENMETM       0.62      0.81      0.70        26\n",
      "    HGIRNASFI       0.82      0.56      0.67        25\n",
      "    LSLRNPILV       0.50      0.27      0.35        11\n",
      "    QLSPFPFDL       0.50      1.00      0.67         1\n",
      "RVSYYGPKTSPVQ       0.00      0.00      0.00         0\n",
      "    SQLLNAKYL       0.50      0.20      0.29         5\n",
      "   SSLENFRAYV       0.71      0.71      0.71        24\n",
      "     SSPPMFRV       0.83      0.73      0.78        26\n",
      "    SSYRRPVGI       0.67      0.75      0.70        51\n",
      "     TVYGFCLL       0.42      0.62      0.50         8\n",
      "\n",
      "     accuracy                           0.67       178\n",
      "    macro avg       0.51      0.51      0.49       178\n",
      " weighted avg       0.68      0.67      0.66       178\n",
      "\n"
     ]
    },
    {
     "name": "stderr",
     "output_type": "stream",
     "text": [
      "D:\\conda\\Lib\\site-packages\\sklearn\\metrics\\_classification.py:1344: UndefinedMetricWarning: Precision and F-score are ill-defined and being set to 0.0 in labels with no predicted samples. Use `zero_division` parameter to control this behavior.\n",
      "  _warn_prf(average, modifier, msg_start, len(result))\n",
      "D:\\conda\\Lib\\site-packages\\sklearn\\metrics\\_classification.py:1344: UndefinedMetricWarning: Recall and F-score are ill-defined and being set to 0.0 in labels with no true samples. Use `zero_division` parameter to control this behavior.\n",
      "  _warn_prf(average, modifier, msg_start, len(result))\n",
      "D:\\conda\\Lib\\site-packages\\sklearn\\metrics\\_classification.py:1344: UndefinedMetricWarning: Precision and F-score are ill-defined and being set to 0.0 in labels with no predicted samples. Use `zero_division` parameter to control this behavior.\n",
      "  _warn_prf(average, modifier, msg_start, len(result))\n",
      "D:\\conda\\Lib\\site-packages\\sklearn\\metrics\\_classification.py:1344: UndefinedMetricWarning: Recall and F-score are ill-defined and being set to 0.0 in labels with no true samples. Use `zero_division` parameter to control this behavior.\n",
      "  _warn_prf(average, modifier, msg_start, len(result))\n",
      "D:\\conda\\Lib\\site-packages\\sklearn\\metrics\\_classification.py:1344: UndefinedMetricWarning: Precision and F-score are ill-defined and being set to 0.0 in labels with no predicted samples. Use `zero_division` parameter to control this behavior.\n",
      "  _warn_prf(average, modifier, msg_start, len(result))\n",
      "D:\\conda\\Lib\\site-packages\\sklearn\\metrics\\_classification.py:1344: UndefinedMetricWarning: Recall and F-score are ill-defined and being set to 0.0 in labels with no true samples. Use `zero_division` parameter to control this behavior.\n",
      "  _warn_prf(average, modifier, msg_start, len(result))\n"
     ]
    }
   ],
   "source": [
    "from sklearn.svm import SVC\n",
    "# 创建SVM模型\n",
    "svm = SVC(kernel='linear') # 也可以尝试其他核函数\n",
    "\n",
    "# 训练模型\n",
    "svm.fit(X_train, y_train)\n",
    "# 对测试集做预测\n",
    "y_pred = svm.predict(X_test)\n",
    "\n",
    "# 计算准确率\n",
    "accuracy = accuracy_score(y_test, y_pred)\n",
    "print(f\"Accuracy: {accuracy}\")\n",
    "report =classification_report(y_test, y_pred)\n",
    "print(report)"
   ]
  },
  {
   "cell_type": "code",
   "execution_count": null,
   "id": "8d8266e9",
   "metadata": {},
   "outputs": [],
   "source": []
  },
  {
   "cell_type": "code",
   "execution_count": null,
   "id": "a9ff9684",
   "metadata": {},
   "outputs": [],
   "source": []
  },
  {
   "cell_type": "code",
   "execution_count": null,
   "id": "65b83f93",
   "metadata": {},
   "outputs": [],
   "source": []
  },
  {
   "cell_type": "code",
   "execution_count": null,
   "id": "5bb8d08b",
   "metadata": {},
   "outputs": [],
   "source": []
  },
  {
   "cell_type": "code",
   "execution_count": null,
   "id": "920768f2",
   "metadata": {},
   "outputs": [],
   "source": []
  }
 ],
 "metadata": {
  "kernelspec": {
   "display_name": "Python 3 (ipykernel)",
   "language": "python",
   "name": "python3"
  },
  "language_info": {
   "codemirror_mode": {
    "name": "ipython",
    "version": 3
   },
   "file_extension": ".py",
   "mimetype": "text/x-python",
   "name": "python",
   "nbconvert_exporter": "python",
   "pygments_lexer": "ipython3",
   "version": "3.11.5"
  }
 },
 "nbformat": 4,
 "nbformat_minor": 5
}
