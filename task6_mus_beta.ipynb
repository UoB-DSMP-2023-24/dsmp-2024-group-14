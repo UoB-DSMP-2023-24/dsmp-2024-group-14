{
 "cells": [
  {
   "cell_type": "code",
   "execution_count": 12,
   "id": "f61fe207",
   "metadata": {},
   "outputs": [],
   "source": [
    "from sklearn.model_selection import train_test_split\n",
    "\n",
    "import numpy as np\n",
    "import pandas as pd\n",
    "import matplotlib.pyplot as plt\n",
    "from sklearn.manifold import TSNE\n",
    "from sklearn.preprocessing import LabelEncoder\n",
    "from sklearn.model_selection import train_test_split\n",
    "from sklearn.ensemble import RandomForestClassifier\n",
    "from sklearn.metrics import classification_report, accuracy_score, precision_score, recall_score, f1_score\n",
    "from sklearn.utils.class_weight import compute_class_weight\n",
    "from sklearn.preprocessing import OneHotEncoder\n",
    "from sklearn.compose import ColumnTransformer\n",
    "data=pd.read_csv('./vdjdb.txt',sep='\\t', header=0)\n",
    "data[data['species'] == 'MusMusculus']\n",
    "data=data[data['vdjdb.score'] != 0]\n",
    "columns_to_drop = ['antigen.species','antigen.gene','reference.id', 'method', 'meta','cdr3fix','web.method','web.method.seq','web.cdr3fix.nc','web.cdr3fix.unmp']\n",
    "data.drop(columns=columns_to_drop, inplace=True)\n",
    "data=data.dropna()\n",
    "data= data.drop_duplicates()\n",
    "data_beta_Mus = data[data['gene'] == 'TRB'].copy()\n",
    "# 假设 `data` 是已加载的pandas DataFrame，并且包含了上述的列\n",
    "\n",
    "class_counts = data_beta_Mus['antigen.epitope'].value_counts()\n",
    "\n",
    "# Find classes that have only one instance\n",
    "single_classes = class_counts[class_counts == 1].index\n",
    "\n",
    "# Remove rows where 'antigen.epitope' belongs to classes with only one instance\n",
    "data_beta_Mus_filtered = data_beta_Mus[~data_beta_Mus['antigen.epitope'].isin(single_classes)]\n",
    "\n",
    "# 首先，根据`cdr3_a_aa`、`v_a_gene`和`j_a_gene`来计算距离矩阵\n",
    "# 计算距离矩阵的具体代码将根据所选算法和数据类型有所不同\n",
    "\n",
    "y = data_beta_Mus_filtered['antigen.epitope']"
   ]
  },
  {
   "cell_type": "code",
   "execution_count": 13,
   "id": "ca31c327",
   "metadata": {},
   "outputs": [],
   "source": [
    "column_trans = ColumnTransformer(\n",
    "    [\n",
    "        ('one_hot_encoder_vj', OneHotEncoder(), ['v.segm', 'j.segm','mhc.a','mhc.b','mhc.class']),\n",
    "        ('one_hot_encoder_cdr3', OneHotEncoder(handle_unknown='ignore'), ['cdr3'])\n",
    "    ],\n",
    "    remainder='drop'\n",
    ")\n",
    "\n",
    "X_encoded = column_trans.fit_transform(data_beta_Mus_filtered)\n",
    "X_train, X_test, y_train, y_test = train_test_split(X_encoded, y, test_size=0.2, random_state=42)"
   ]
  },
  {
   "cell_type": "code",
   "execution_count": 14,
   "id": "f0462aed",
   "metadata": {},
   "outputs": [
    {
     "name": "stdout",
     "output_type": "stream",
     "text": [
      "Accuracy: 0.63\n",
      "Precision: 0.44\n",
      "Recall: 0.44\n",
      "F1 Score: 0.42\n"
     ]
    }
   ],
   "source": [
    "# 5. 计算类别权重\n",
    "from sklearn.utils.class_weight import compute_class_weight\n",
    "class_weights = compute_class_weight('balanced', classes=np.unique(y_train), y=y_train)\n",
    "weights = dict(zip(np.unique(y_train), class_weights))\n",
    "#*\n",
    "# 6. 训练随机森林模型\n",
    "rf_classifier_weighted = RandomForestClassifier(random_state=30, class_weight=weights)\n",
    "rf_classifier_weighted.fit(X_train, y_train)\n",
    "\n",
    "# 7. 进行预测\n",
    "y_pred_weighted = rf_classifier_weighted.predict(X_test)\n",
    "\n",
    "# 8. 生成和显示分类报告\n",
    "classification_report_weighted = classification_report(y_test, y_pred_weighted, zero_division=0)\n",
    "#print(classification_report_weighted)\n",
    "\n",
    "# 9. 计算和显示准确率、精确度、召回率和F1分数\n",
    "from sklearn.metrics import accuracy_score, precision_score, recall_score, f1_score\n",
    "accuracy = accuracy_score(y_test, y_pred_weighted)\n",
    "precision = precision_score(y_test, y_pred_weighted, average='macro', zero_division=0)\n",
    "recall = recall_score(y_test, y_pred_weighted, average='macro', zero_division=0)\n",
    "f1 = f1_score(y_test, y_pred_weighted, average='macro', zero_division=0)\n",
    "\n",
    "print(f'Accuracy: {accuracy:.2f}')\n",
    "print(f'Precision: {precision:.2f}')\n",
    "print(f'Recall: {recall:.2f}')\n",
    "print(f'F1 Score: {f1:.2f}')\n",
    "#onehot编码，随机森林预测"
   ]
  },
  {
   "cell_type": "code",
   "execution_count": 15,
   "id": "d5512377",
   "metadata": {},
   "outputs": [
    {
     "name": "stdout",
     "output_type": "stream",
     "text": [
      "           Actual   Predicted\n",
      "75670  HPKVSSEVHI  HPKVSSEVHI\n",
      "78590   HSKKKCDEL   HSKKKCDEL\n",
      "82837    TTPESANL    STPESANL\n",
      "21559   GILGFVFTL   GLCTLVAML\n",
      "75983    FLKEKGGL    EIYKRWII\n",
      "...           ...         ...\n",
      "78158  EAAGIGILTV  ELAGIGILTV\n",
      "76065  KRWIILGLNK  KRWIILGLNK\n",
      "83809   RMFPNAPYL  KLVALGINAV\n",
      "75951    EIYKRWII    FLKEKGGL\n",
      "79973   FRCPRRFCF   CRVLCCYVL\n",
      "\n",
      "[1305 rows x 2 columns]\n",
      "Mismatched Predictions:\n",
      "           Actual   Predicted\n",
      "82837    TTPESANL    STPESANL\n",
      "21559   GILGFVFTL   GLCTLVAML\n",
      "75983    FLKEKGGL    EIYKRWII\n",
      "26458  KLYGLDWAEL   GILGFVFTL\n",
      "89648   YLQPRTFLL   GLCTLVAML\n",
      "...           ...         ...\n",
      "25795   NLVPMVATV   GILGFVFTL\n",
      "78158  EAAGIGILTV  ELAGIGILTV\n",
      "83809   RMFPNAPYL  KLVALGINAV\n",
      "75951    EIYKRWII    FLKEKGGL\n",
      "79973   FRCPRRFCF   CRVLCCYVL\n",
      "\n",
      "[488 rows x 2 columns]\n"
     ]
    }
   ],
   "source": [
    "results_df = pd.DataFrame({'Actual': y_test, 'Predicted': y_pred_weighted})\n",
    "print(results_df) \n",
    "mismatches = results_df[results_df['Actual'] != results_df['Predicted']]\n",
    "print(\"Mismatched Predictions:\")\n",
    "print(mismatches)"
   ]
  },
  {
   "cell_type": "code",
   "execution_count": 16,
   "id": "4a54219d",
   "metadata": {},
   "outputs": [
    {
     "name": "stdout",
     "output_type": "stream",
     "text": [
      "Error Counts by Actual Category:\n",
      "NLVPMVATV          23\n",
      "ELAGIGILTV         23\n",
      "TTPESANL           19\n",
      "YVLDHLIVV          18\n",
      "YLQPRTFLL          16\n",
      "                   ..\n",
      "KLYGLDWAEL          1\n",
      "GELIGILNAAKVPAD     1\n",
      "FLGKIWPSHK          1\n",
      "LPRRSGAAGA          1\n",
      "FRCPRRFCF           1\n",
      "Name: Actual, Length: 137, dtype: int64\n"
     ]
    }
   ],
   "source": [
    "error_counts = mismatches['Actual'].value_counts()\n",
    "print(\"Error Counts by Actual Category:\")\n",
    "print(error_counts)\n",
    "error_counts.to_csv(\"error_counts.csv\")"
   ]
  }
 ],
 "metadata": {
  "kernelspec": {
   "display_name": "Python 3 (ipykernel)",
   "language": "python",
   "name": "python3"
  },
  "language_info": {
   "codemirror_mode": {
    "name": "ipython",
    "version": 3
   },
   "file_extension": ".py",
   "mimetype": "text/x-python",
   "name": "python",
   "nbconvert_exporter": "python",
   "pygments_lexer": "ipython3",
   "version": "3.11.4"
  }
 },
 "nbformat": 4,
 "nbformat_minor": 5
}
