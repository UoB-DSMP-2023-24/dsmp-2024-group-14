{
 "cells": [
  {
   "cell_type": "code",
   "execution_count": 104,
   "id": "b72fc582",
   "metadata": {},
   "outputs": [
    {
     "name": "stdout",
     "output_type": "stream",
     "text": [
      "       complex.id gene                  cdr3         v.segm      j.segm  \\\n",
      "0               1  TRA         CIVRAPGRADMRF    TRAV26-1*01   TRAJ43*01   \n",
      "1               1  TRB  CASSYLPGQGDHYSNQPQHF      TRBV13*01  TRBJ1-5*01   \n",
      "2               0  TRB   CASSFEAGQGFFSNQPQHF      TRBV13*01  TRBJ1-5*01   \n",
      "3               2  TRA        CAVPSGAGSYQLTF      TRAV20*01   TRAJ28*01   \n",
      "4               2  TRB   CASSFEPGQGFYSNQPQHF      TRBV13*01  TRBJ1-5*01   \n",
      "...           ...  ...                   ...            ...         ...   \n",
      "92686       30552  TRB        CASSQGSGGNEQFF     TRBV4-3*01  TRBJ2-1*01   \n",
      "92689       30554  TRA     CAASVLYGSSNTGKLIF  TRAV29/DV5*01   TRAJ37*01   \n",
      "92690       30554  TRB      CASSIVGSGGYNEQFF      TRBV19*01  TRBJ2-1*01   \n",
      "92767       30593  TRA          CAPQGATNKLIF    TRAV12-2*01   TRAJ32*01   \n",
      "92768       30593  TRB       CASSLGAGGQETQYF     TRBV5-1*01  TRBJ2-5*01   \n",
      "\n",
      "           species antigen.epitope  vdjdb.score  \n",
      "0      HomoSapiens        FLKEKGGL            2  \n",
      "1      HomoSapiens        FLKEKGGL            2  \n",
      "2      HomoSapiens        FLKEKGGL            2  \n",
      "3      HomoSapiens        FLKEKGGL            2  \n",
      "4      HomoSapiens        FLKEKGGL            2  \n",
      "...            ...             ...          ...  \n",
      "92686  HomoSapiens    FPQPEQPFPWQP            2  \n",
      "92689  HomoSapiens    QLQPFPQPELPY            2  \n",
      "92690  HomoSapiens    QLQPFPQPELPY            2  \n",
      "92767  HomoSapiens   PQQPFPQPEQPFP            2  \n",
      "92768  HomoSapiens   PQQPFPQPEQPFP            2  \n",
      "\n",
      "[12156 rows x 8 columns]\n",
      "       complex.id gene                  cdr3         v.segm      j.segm  \\\n",
      "0               1  TRA         CIVRAPGRADMRF    TRAV26-1*01   TRAJ43*01   \n",
      "1               1  TRB  CASSYLPGQGDHYSNQPQHF      TRBV13*01  TRBJ1-5*01   \n",
      "2               0  TRB   CASSFEAGQGFFSNQPQHF      TRBV13*01  TRBJ1-5*01   \n",
      "3               2  TRA        CAVPSGAGSYQLTF      TRAV20*01   TRAJ28*01   \n",
      "4               2  TRB   CASSFEPGQGFYSNQPQHF      TRBV13*01  TRBJ1-5*01   \n",
      "...           ...  ...                   ...            ...         ...   \n",
      "92686       30552  TRB        CASSQGSGGNEQFF     TRBV4-3*01  TRBJ2-1*01   \n",
      "92689       30554  TRA     CAASVLYGSSNTGKLIF  TRAV29/DV5*01   TRAJ37*01   \n",
      "92690       30554  TRB      CASSIVGSGGYNEQFF      TRBV19*01  TRBJ2-1*01   \n",
      "92767       30593  TRA          CAPQGATNKLIF    TRAV12-2*01   TRAJ32*01   \n",
      "92768       30593  TRB       CASSLGAGGQETQYF     TRBV5-1*01  TRBJ2-5*01   \n",
      "\n",
      "           species antigen.epitope  vdjdb.score  \n",
      "0      HomoSapiens        FLKEKGGL            2  \n",
      "1      HomoSapiens        FLKEKGGL            2  \n",
      "2      HomoSapiens        FLKEKGGL            2  \n",
      "3      HomoSapiens        FLKEKGGL            2  \n",
      "4      HomoSapiens        FLKEKGGL            2  \n",
      "...            ...             ...          ...  \n",
      "92686  HomoSapiens    FPQPEQPFPWQP            2  \n",
      "92689  HomoSapiens    QLQPFPQPELPY            2  \n",
      "92690  HomoSapiens    QLQPFPQPELPY            2  \n",
      "92767  HomoSapiens   PQQPFPQPEQPFP            2  \n",
      "92768  HomoSapiens   PQQPFPQPEQPFP            2  \n",
      "\n",
      "[12156 rows x 8 columns]\n"
     ]
    }
   ],
   "source": [
    "from sklearn.model_selection import train_test_split\n",
    "\n",
    "import numpy as np\n",
    "import pandas as pd\n",
    "import matplotlib.pyplot as plt\n",
    "from sklearn.manifold import TSNE\n",
    "from sklearn.preprocessing import LabelEncoder\n",
    "from sklearn.model_selection import train_test_split\n",
    "from sklearn.ensemble import RandomForestClassifier\n",
    "from sklearn.metrics import classification_report, accuracy_score, precision_score, recall_score, f1_score\n",
    "from sklearn.utils.class_weight import compute_class_weight\n",
    "from sklearn.preprocessing import OneHotEncoder\n",
    "from sklearn.compose import ColumnTransformer\n",
    "data=pd.read_csv('./vdjdb.txt',sep='\\t', header=0)\n",
    "data[data['species'] == 'HomoSapiens']\n",
    "data=data[data['vdjdb.score'] != 0]\n",
    "columns_to_drop = ['antigen.species','antigen.gene','reference.id', 'method', 'meta','cdr3fix','web.method','web.method.seq','web.cdr3fix.nc','web.cdr3fix.unmp','mhc.a','mhc.b','mhc.class']\n",
    "data.drop(columns=columns_to_drop, inplace=True)\n",
    "data=data.dropna()\n",
    "print(data)\n",
    "#data= data.drop_duplicates()\n",
    "\n",
    "print(data)\n",
    "data_beta_homo = data[data['gene'] == 'TRB'].copy()\n",
    "# 假设 `data` 是已加载的pandas DataFrame，并且包含了上述的列\n",
    "\n",
    "class_counts = data_beta_homo['antigen.epitope'].value_counts()\n",
    "\n",
    "# Find classes that have only one instance\n",
    "single_classes = class_counts[class_counts == 1].index\n",
    "\n",
    "# Remove rows where 'antigen.epitope' belongs to classes with only one instance\n",
    "data_beta_homo_filtered = data_beta_homo[~data_beta_homo['antigen.epitope'].isin(single_classes)]\n",
    "\n",
    "# 首先，根据`cdr3_a_aa`、`v_a_gene`和`j_a_gene`来计算距离矩阵\n",
    "# 计算距离矩阵的具体代码将根据所选算法和数据类型有所不同\n",
    "\n",
    "y = data_beta_homo_filtered['antigen.epitope']"
   ]
  },
  {
   "cell_type": "code",
   "execution_count": 105,
   "id": "dd8b885e",
   "metadata": {},
   "outputs": [],
   "source": [
    "column_trans = ColumnTransformer(\n",
    "    [\n",
    "        ('one_hot_encoder_vj', OneHotEncoder(), ['v.segm', 'j.segm']),\n",
    "        ('one_hot_encoder_cdr3', OneHotEncoder(handle_unknown='ignore'), ['cdr3'])\n",
    "    ],\n",
    "    remainder='drop'\n",
    ")\n",
    "\n",
    "X_encoded = column_trans.fit_transform(data_beta_homo_filtered)\n",
    "X_train, X_test, y_train, y_test = train_test_split(X_encoded, y, test_size=0.2, random_state=42)"
   ]
  },
  {
   "cell_type": "code",
   "execution_count": 106,
   "id": "4ffac508",
   "metadata": {},
   "outputs": [
    {
     "name": "stdout",
     "output_type": "stream",
     "text": [
      "Accuracy: 0.56\n",
      "Precision: 0.39\n",
      "Recall: 0.34\n",
      "F1 Score: 0.34\n"
     ]
    }
   ],
   "source": [
    "# 5. 计算类别权重\n",
    "from sklearn.utils.class_weight import compute_class_weight\n",
    "class_weights = compute_class_weight('balanced', classes=np.unique(y_train), y=y_train)\n",
    "weights = dict(zip(np.unique(y_train), class_weights))\n",
    "#*\n",
    "# 6. 训练随机森林模型\n",
    "rf_classifier_weighted = RandomForestClassifier(random_state=30, class_weight=weights)\n",
    "rf_classifier_weighted.fit(X_train, y_train)\n",
    "\n",
    "# 7. 进行预测\n",
    "y_pred_weighted = rf_classifier_weighted.predict(X_test)\n",
    "\n",
    "# 8. 生成和显示分类报告\n",
    "classification_report_weighted = classification_report(y_test, y_pred_weighted, zero_division=0)\n",
    "#print(classification_report_weighted)\n",
    "\n",
    "# 9. 计算和显示准确率、精确度、召回率和F1分数\n",
    "from sklearn.metrics import accuracy_score, precision_score, recall_score, f1_score\n",
    "accuracy = accuracy_score(y_test, y_pred_weighted)\n",
    "precision = precision_score(y_test, y_pred_weighted, average='macro', zero_division=0)\n",
    "recall = recall_score(y_test, y_pred_weighted, average='macro', zero_division=0)\n",
    "f1 = f1_score(y_test, y_pred_weighted, average='macro', zero_division=0)\n",
    "\n",
    "print(f'Accuracy: {accuracy:.2f}')\n",
    "print(f'Precision: {precision:.2f}')\n",
    "print(f'Recall: {recall:.2f}')\n",
    "print(f'F1 Score: {f1:.2f}')\n",
    "#onehot编码，随机森林预测"
   ]
  },
  {
   "cell_type": "code",
   "execution_count": 107,
   "id": "954c98d2",
   "metadata": {},
   "outputs": [
    {
     "name": "stdout",
     "output_type": "stream",
     "text": [
      "                     Actual             Predicted\n",
      "22441              NEGVKAAW              NEGVKAAW\n",
      "6221              NLVPMVATV             NLVPMVATV\n",
      "92657          QLQPFPQPELPY           KAFSPEVIPMF\n",
      "3521              LLWNGPMAV        TFEYVSQPFLMDLE\n",
      "20139             GPGHKARVL            ELAGIGILTV\n",
      "...                     ...                   ...\n",
      "452               LLLDRLNQL            KRWIILGLNK\n",
      "74093           PQPELPYPQPE             SSYRRPVGI\n",
      "67920          EEAAGIGILTVI           KAFSPEVIPMF\n",
      "75534             FPRPWLHGL            KRWIILGLNK\n",
      "25296  FRDYVDRFYKTLRAEQASQE  FRDYVDRFYKTLRAEQASQE\n",
      "\n",
      "[1646 rows x 2 columns]\n",
      "Mismatched Predictions:\n",
      "                Actual       Predicted\n",
      "92657     QLQPFPQPELPY     KAFSPEVIPMF\n",
      "3521         LLWNGPMAV  TFEYVSQPFLMDLE\n",
      "20139        GPGHKARVL      ELAGIGILTV\n",
      "1700     RVSYYGPKTSPVQ   FEAQKAKANKAVD\n",
      "1714         SLLMWITQV       NLVPMVATV\n",
      "...                ...             ...\n",
      "1184   PPQIAANRSQLISLV      KRWIILGLNK\n",
      "452          LLLDRLNQL      KRWIILGLNK\n",
      "74093      PQPELPYPQPE       SSYRRPVGI\n",
      "67920     EEAAGIGILTVI     KAFSPEVIPMF\n",
      "75534        FPRPWLHGL      KRWIILGLNK\n",
      "\n",
      "[723 rows x 2 columns]\n"
     ]
    }
   ],
   "source": [
    "results_df = pd.DataFrame({'Actual': y_test, 'Predicted': y_pred_weighted})\n",
    "print(results_df) \n",
    "mismatches = results_df[results_df['Actual'] != results_df['Predicted']]\n",
    "print(\"Mismatched Predictions:\")\n",
    "print(mismatches)"
   ]
  },
  {
   "cell_type": "code",
   "execution_count": 108,
   "id": "374208cb",
   "metadata": {},
   "outputs": [
    {
     "name": "stdout",
     "output_type": "stream",
     "text": [
      "Error Counts by Actual Category:\n",
      "NLVPMVATV          43\n",
      "GILGFVFTL          25\n",
      "RAKFKQLL           20\n",
      "YLQPRTFLL          19\n",
      "ELAGIGILTV         17\n",
      "                   ..\n",
      "RMFPNAPYL           1\n",
      "ITDQVPFSV           1\n",
      "RPHERNGFTV          1\n",
      "RLGPVQNEV           1\n",
      "PPQIAANRSQLISLV     1\n",
      "Name: Actual, Length: 157, dtype: int64\n"
     ]
    }
   ],
   "source": [
    "error_counts = mismatches['Actual'].value_counts()\n",
    "print(\"Error Counts by Actual Category:\")\n",
    "print(error_counts)\n",
    "error_counts.to_csv(\"error_counts.csv\")"
   ]
  },
  {
   "cell_type": "code",
   "execution_count": null,
   "id": "cdf3fc21",
   "metadata": {},
   "outputs": [],
   "source": []
  }
 ],
 "metadata": {
  "kernelspec": {
   "display_name": "Python 3 (ipykernel)",
   "language": "python",
   "name": "python3"
  },
  "language_info": {
   "codemirror_mode": {
    "name": "ipython",
    "version": 3
   },
   "file_extension": ".py",
   "mimetype": "text/x-python",
   "name": "python",
   "nbconvert_exporter": "python",
   "pygments_lexer": "ipython3",
   "version": "3.11.4"
  }
 },
 "nbformat": 4,
 "nbformat_minor": 5
}
