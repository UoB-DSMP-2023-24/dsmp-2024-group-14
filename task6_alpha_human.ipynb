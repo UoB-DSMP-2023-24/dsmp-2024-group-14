{
 "cells": [
  {
   "cell_type": "code",
   "execution_count": 4,
   "id": "25f6a915",
   "metadata": {},
   "outputs": [],
   "source": [
    "from sklearn.model_selection import train_test_split\n",
    "\n",
    "import numpy as np\n",
    "import pandas as pd\n",
    "import matplotlib.pyplot as plt\n",
    "from sklearn.manifold import TSNE\n",
    "from sklearn.preprocessing import LabelEncoder\n",
    "\n",
    "# Load the dataset containing sequence features\n",
    "data = pd.read_csv(\"alpha_p.csv\") \n",
    "\n",
    "# 假设 `data` 是已加载的pandas DataFrame，并且包含了上述的列\n",
    "\n",
    "class_counts = data['antigen.epitope'].value_counts()\n",
    "\n",
    "# Find classes that have only one instance\n",
    "single_classes = class_counts[class_counts == 1].index\n",
    "\n",
    "\n",
    "# Remove rows where 'antigen.epitope' belongs to classes with only one instance\n",
    "data_filtered = data[~data['antigen.epitope'].isin(single_classes)]\n",
    "\n",
    "# 首先，根据`cdr3_a_aa`、`v_a_gene`和`j_a_gene`来计算距离矩阵\n",
    "# 计算距离矩阵的具体代码将根据所选算法和数据类型有所不同\n",
    "\n",
    "# 定义特征列和目标列\n",
    "feature_columns = ['cdr3_a_aa', 'v_a_gene', 'j_a_gene']\n",
    "target_column = 'antigen.epitope'\n",
    "\n",
    "# 提取特征和目标\n",
    "X = data_filtered[feature_columns]  # 或是距离矩阵，取决于您的模型需求\n",
    "y = data_filtered[target_column]\n",
    "\n",
    "# 分层划分测试集和训练集\n",
    "X_train, X_test, y_train, y_test = train_test_split(X, y, test_size=0.2, stratify=y, random_state=42)\n",
    "\n",
    "# 以下是计算距离矩阵和模型训练的代码，这需要进一步的信息\n",
    "X_train.to_csv('human_alpha_train.csv')\n",
    "X_test.to_csv('human_alpha_test.csv')"
   ]
  },
  {
   "cell_type": "code",
   "execution_count": 5,
   "id": "78d5923f",
   "metadata": {},
   "outputs": [
    {
     "data": {
      "text/plain": [
       "Index(['LGYGFVNYI', 'FPQSAPHGVVF', 'GLLDEDFYA', 'HQNPVTGLLL', 'RVSTLRVSL',\n",
       "       'SYMIMEIE', 'TLATHGLAAV', 'LLFNKVTLA', 'MPYGYVLNEF', 'KQIYKTPPI',\n",
       "       ...\n",
       "       'FSWGAEGQRPGF', 'MDFARVHFISALHGSG', 'ENPVVHFFKNIVTP', 'LQPLALEGSLQKRG',\n",
       "       'QPLALEGSLQKRG', 'SMGVTYEM', 'YMGVSYEM', 'YMGVVYEM', 'KMGVTYEM',\n",
       "       'RPPIFIRRL'],\n",
       "      dtype='object', length=184)"
      ]
     },
     "execution_count": 5,
     "metadata": {},
     "output_type": "execute_result"
    }
   ],
   "source": [
    "single_classes"
   ]
  },
  {
   "cell_type": "code",
   "execution_count": 7,
   "id": "59885bb1",
   "metadata": {},
   "outputs": [
    {
     "name": "stderr",
     "output_type": "stream",
     "text": [
      "/Users/lulu/anaconda3/lib/python3.11/site-packages/tcrdist/repertoire.py:159: UserWarning: cell_df needs a counts column to track clonal number of frequency\n",
      "\n",
      "  self._validate_cell_df()\n",
      "/Users/lulu/anaconda3/lib/python3.11/site-packages/tcrdist/repertoire.py:791: UserWarning: No 'count' column provided; count column set to 1\n",
      "  warnings.warn(\"No 'count' column provided; count column set to 1\")\n"
     ]
    },
    {
     "data": {
      "text/plain": [
       "array([[  0, 138,   0, ...,  90,  78, 159],\n",
       "       [138,   0, 138, ..., 129, 141, 141],\n",
       "       [  0, 138,   0, ...,  90,  78, 159],\n",
       "       ...,\n",
       "       [ 90, 129,  90, ...,   0,  42, 138],\n",
       "       [ 78, 141,  78, ...,  42,   0, 144],\n",
       "       [159, 141, 159, ..., 138, 144,   0]], dtype=int16)"
      ]
     },
     "execution_count": 7,
     "metadata": {},
     "output_type": "execute_result"
    }
   ],
   "source": [
    "import numpy as np\n",
    "from tcrdist.repertoire import TCRrep\n",
    "#创造‘TCRrep’类\n",
    "#alpha chain\n",
    "data_alpha = pd.read_csv(\"human_alpha_train.csv\")\n",
    "tr_alpha = TCRrep(cell_df=data_alpha, \n",
    "                  organism='human', \n",
    "                  chains=['alpha'], \n",
    "                  db_file='alphabeta_gammadelta_db.tsv')\n",
    "tr_alpha.compute_distances()\n",
    "\n",
    "alpha_distance_matrix = tr_alpha.pw_alpha\n",
    "#np.save('alpha_distance_people_matrix.npy', alpha_distance_matrix)\n",
    "tr_alpha.pw_alpha"
   ]
  },
  {
   "cell_type": "code",
   "execution_count": null,
   "id": "74721400",
   "metadata": {},
   "outputs": [],
   "source": []
  }
 ],
 "metadata": {
  "kernelspec": {
   "display_name": "Python 3 (ipykernel)",
   "language": "python",
   "name": "python3"
  },
  "language_info": {
   "codemirror_mode": {
    "name": "ipython",
    "version": 3
   },
   "file_extension": ".py",
   "mimetype": "text/x-python",
   "name": "python",
   "nbconvert_exporter": "python",
   "pygments_lexer": "ipython3",
   "version": "3.11.4"
  }
 },
 "nbformat": 4,
 "nbformat_minor": 5
}
