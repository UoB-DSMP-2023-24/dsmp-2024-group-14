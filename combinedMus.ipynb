{
 "cells": [
  {
   "cell_type": "code",
   "execution_count": null,
   "id": "5ba6fde3",
   "metadata": {},
   "outputs": [],
   "source": [
    "# ab combined 后预测MusMusculus\n",
    "\n",
    "import pandas as pd\n",
    "\n",
    "data=pd.read_csv('./vdjdb.txt',sep='\\t', header=0)\n",
    "data[data['species'] == 'MusMusculus']\n",
    "data=data[data['vdjdb.score'] != 0]\n",
    "data"
   ]
  },
  {
   "cell_type": "code",
   "execution_count": null,
   "id": "370a799f",
   "metadata": {},
   "outputs": [],
   "source": [
    "columns_to_drop = ['antigen.species','antigen.gene','reference.id', 'method', 'meta','cdr3fix','web.method','web.method.seq','web.cdr3fix.nc','web.cdr3fix.unmp','mhc.a','mhc.b','mhc.class']\n",
    "data.drop(columns=columns_to_drop, inplace=True)\n",
    "df=data.dropna()\n",
    "# # Filter data for alpha chain and beta chain\n",
    "data_alpha = df[df['gene'] == 'TRA'].copy()\n",
    "data_beta = df[df['gene'] == 'TRB'].copy()\n",
    "\n",
    "data_alpha = data_alpha[data_alpha['complex.id'] != 0]\n",
    "data_beta = data_beta[data_beta['complex.id'] != 0]\n",
    "\n",
    "data_combined = pd.merge(data_alpha,data_beta, on='complex.id' )\n",
    "data_beta.to_csv('mouse_combined.csv')\n",
    "data_combined"
   ]
  },
  {
   "cell_type": "code",
   "execution_count": null,
   "id": "54d524ae",
   "metadata": {},
   "outputs": [],
   "source": [
    "class_counts = data_combined['antigen.epitope_x'].value_counts()\n",
    "\n",
    "# Find classes that have only one instance\n",
    "single_classes = class_counts[class_counts == 1].index\n",
    "data_combined = data_combined[~data_combined['antigen.epitope_x'].isin(single_classes)]\n",
    "\n",
    "# 首先，根据`cdr3_a_aa`、`v_a_gene`和`j_a_gene`来计算距离矩阵\n",
    "# 计算距离矩阵的具体代码将根据所选算法和数据类型有所不同\n",
    "\n",
    "# 定义特征列和目标列\n",
    "feature_columns = ['cdr3_x', 'cdr3_y', 'v.segm_x', 'j.segm_x', 'v.segm_y', 'j.segm_y' ]\n",
    "target_column = 'antigen.epitope_x'\n",
    "\n",
    "# 提取特征和目标\n",
    "X = data_combined[feature_columns]  # 或是距离矩阵，取决于您的模型需求\n",
    "y = data_combined[target_column]"
   ]
  },
  {
   "cell_type": "code",
   "execution_count": null,
   "id": "36d31452",
   "metadata": {},
   "outputs": [],
   "source": []
  }
 ],
 "metadata": {
  "kernelspec": {
   "display_name": "Python 3 (ipykernel)",
   "language": "python",
   "name": "python3"
  },
  "language_info": {
   "codemirror_mode": {
    "name": "ipython",
    "version": 3
   },
   "file_extension": ".py",
   "mimetype": "text/x-python",
   "name": "python",
   "nbconvert_exporter": "python",
   "pygments_lexer": "ipython3",
   "version": "3.11.4"
  }
 },
 "nbformat": 4,
 "nbformat_minor": 5
}
