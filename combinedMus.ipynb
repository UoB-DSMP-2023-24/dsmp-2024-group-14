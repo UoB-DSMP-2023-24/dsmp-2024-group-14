{
 "cells": [
  {
   "cell_type": "code",
   "execution_count": null,
   "id": "5ba6fde3",
   "metadata": {},
   "outputs": [],
   "source": [
    "# ab combined 后预测MusMusculus\n",
    "\n",
    "import pandas as pd\n",
    "\n",
    "data=pd.read_csv('./vdjdb.txt',sep='\\t', header=0)\n",
    "data[data['species'] == 'MusMusculus']\n",
    "data=data[data['vdjdb.score'] != 0]\n",
    "data"
   ]
  },
  {
   "cell_type": "code",
   "execution_count": null,
   "id": "370a799f",
   "metadata": {},
   "outputs": [],
   "source": [
    "columns_to_drop = ['antigen.species','antigen.gene','reference.id', 'method', 'meta','cdr3fix','web.method','web.method.seq','web.cdr3fix.nc','web.cdr3fix.unmp','mhc.a','mhc.b','mhc.class']\n",
    "data.drop(columns=columns_to_drop, inplace=True)\n",
    "df=data.dropna()\n",
    "# # Filter data for alpha chain and beta chain\n",
    "data_alpha = df[df['gene'] == 'TRA'].copy()\n",
    "data_beta = df[df['gene'] == 'TRB'].copy()\n",
    "\n",
    "data_alpha = data_alpha[data_alpha['complex.id'] != 0]\n",
    "data_beta = data_beta[data_beta['complex.id'] != 0]\n",
    "\n",
    "data_combined = pd.merge(data_alpha,data_beta, on='complex.id' )\n",
    "data_beta.to_csv('mouse_combined.csv')\n",
    "data_combined= data_combined.drop_duplicates()\n",
    "data_combined"
   ]
  },
  {
   "cell_type": "code",
   "execution_count": null,
   "id": "54d524ae",
   "metadata": {},
   "outputs": [],
   "source": [
    "class_counts = data_combined['antigen.epitope_x'].value_counts()\n",
    "\n",
    "# Find classes that have only one instance\n",
    "single_classes = class_counts[class_counts == 1].index\n",
    "data_combined = data_combined[~data_combined['antigen.epitope_x'].isin(single_classes)]\n",
    "\n",
    "# 首先，根据`cdr3_a_aa`、`v_a_gene`和`j_a_gene`来计算距离矩阵\n",
    "# 计算距离矩阵的具体代码将根据所选算法和数据类型有所不同\n",
    "\n",
    "# 定义特征列和目标列\n",
    "feature_columns = ['cdr3_x', 'cdr3_y', 'v.segm_x', 'j.segm_x', 'v.segm_y', 'j.segm_y','mhc.a_y', 'mhc.b_y', 'mhc.class_y' ,'mhc.a_x', 'mhc.b_x', 'mhc.class_x' ]\n",
    "target_column = 'antigen.epitope_x'\n",
    "\n",
    "# 提取特征和目标\n",
    "X = data_combined[feature_columns]  # 或是距离矩阵，取决于您的模型需求\n",
    "y = data_combined[target_column]"
   ]
  },
  {
   "cell_type": "code",
   "execution_count": null,
   "id": "36d31452",
   "metadata": {},
   "outputs": [],
   "source": [
    "from sklearn.compose import ColumnTransformer\n",
    "from sklearn.preprocessing import OneHotEncoder\n",
    "from sklearn.model_selection import train_test_split\n",
    "column_trans = ColumnTransformer(\n",
    "    [\n",
    "        ('one_hot_encoder_vj', OneHotEncoder(), ['v.segm_x', 'j.segm_x', 'v.segm_y', 'j.segm_y','mhc.a_y', 'mhc.b_y', 'mhc.class_y' ,'mhc.a_x', 'mhc.b_x', 'mhc.class_x']),\n",
    "        ('one_hot_encoder_cdr3', OneHotEncoder(handle_unknown='ignore'), ['cdr3_x', 'cdr3_y'])\n",
    "    ],\n",
    "    remainder='drop'\n",
    ")\n",
    "\n",
    "X_encoded = column_trans.fit_transform(data_combined)\n",
    "# 分层划分测试集和训练集\n",
    "X_train, X_test, y_train, y_test = train_test_split(X_encoded, y, test_size=0.2, stratify=y, random_state=42)"
   ]
  },
  {
   "cell_type": "code",
   "execution_count": null,
   "id": "d225ea87",
   "metadata": {},
   "outputs": [],
   "source": [
    "# 5. 计算类别权重\n",
    "from sklearn.ensemble import RandomForestClassifier\n",
    "from sklearn.metrics import classification_report, accuracy_score\n",
    "from sklearn.utils.class_weight import compute_class_weight\n",
    "import numpy as np\n",
    "class_weights = compute_class_weight('balanced', classes=np.unique(y_train), y=y_train)\n",
    "weights = dict(zip(np.unique(y_train), class_weights))\n",
    "#*\n",
    "# 6. 训练随机森林模型\n",
    "rf_classifier_weighted = RandomForestClassifier(random_state=30, class_weight=weights)\n",
    "rf_classifier_weighted.fit(X_train, y_train)\n",
    "\n",
    "# 7. 进行预测\n",
    "y_pred_weighted = rf_classifier_weighted.predict(X_test)\n",
    "\n",
    "# 8. 生成和显示分类报告\n",
    "classification_report_weighted = classification_report(y_test, y_pred_weighted, zero_division=0)\n",
    "#print(classification_report_weighted)\n",
    "\n",
    "# 9. 计算和显示准确率、精确度、召回率和F1分数\n",
    "from sklearn.metrics import accuracy_score, precision_score, recall_score, f1_score\n",
    "accuracy = accuracy_score(y_test, y_pred_weighted)\n",
    "precision = precision_score(y_test, y_pred_weighted, average='macro', zero_division=0)\n",
    "recall = recall_score(y_test, y_pred_weighted, average='macro', zero_division=0)\n",
    "f1 = f1_score(y_test, y_pred_weighted, average='macro', zero_division=0)\n",
    "\n",
    "print(f'Accuracy: {accuracy:.2f}')\n",
    "print(f'Precision: {precision:.2f}')\n",
    "print(f'Recall: {recall:.2f}')\n",
    "print(f'F1 Score: {f1:.2f}')\n",
    "#onehot编码，随机过采样补全，随机森林预测"
   ]
  },
  {
   "cell_type": "code",
   "execution_count": null,
   "id": "b276ee41",
   "metadata": {},
   "outputs": [],
   "source": []
  }
 ],
 "metadata": {
  "kernelspec": {
   "display_name": "Python 3 (ipykernel)",
   "language": "python",
   "name": "python3"
  },
  "language_info": {
   "codemirror_mode": {
    "name": "ipython",
    "version": 3
   },
   "file_extension": ".py",
   "mimetype": "text/x-python",
   "name": "python",
   "nbconvert_exporter": "python",
   "pygments_lexer": "ipython3",
   "version": "3.11.4"
  }
 },
 "nbformat": 4,
 "nbformat_minor": 5
}
